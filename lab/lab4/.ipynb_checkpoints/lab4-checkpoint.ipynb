{
 "cells": [
  {
   "cell_type": "markdown",
   "metadata": {},
   "source": [
    "COMP9517 lab4 20T2\\\n",
    "written by Haowei Lou\\\n",
    "z5258575"
   ]
  },
  {
   "cell_type": "code",
   "execution_count": 8,
   "metadata": {},
   "outputs": [],
   "source": [
    "from sklearn import metrics\n",
    "from sklearn.datasets import load_digits\n",
    "from sklearn.model_selection import train_test_split\n",
    "from sklearn.neighbors import KNeighborsClassifier\n",
    "from sklearn.linear_model import SGDClassifier\n",
    "from sklearn.tree import DecisionTreeClassifier\n",
    "import matplotlib.pyplot as plt\n",
    "import numpy as np"
   ]
  },
  {
   "cell_type": "markdown",
   "metadata": {},
   "source": [
    "Set up"
   ]
  },
  {
   "cell_type": "code",
   "execution_count": 32,
   "metadata": {},
   "outputs": [],
   "source": [
    "digits = load_digits()\n",
    "x = digits.data\n",
    "y = digits.target\n",
    "x_train, x_test, y_train, y_test = train_test_split(x,y,test_size=0.25)"
   ]
  },
  {
   "cell_type": "code",
   "execution_count": 33,
   "metadata": {},
   "outputs": [
    {
     "data": {
      "text/plain": [
       "Text(0.5, 1.0, 'Label: 0\\n')"
      ]
     },
     "execution_count": 33,
     "metadata": {},
     "output_type": "execute_result"
    },
    {
     "data": {
      "image/png": "[encoded data removed]",
      "text/plain": [
       "<Figure size 432x288 with 1 Axes>"
      ]
     },
     "metadata": {
      "needs_background": "light"
     },
     "output_type": "display_data"
    }
   ],
   "source": [
    "i = 0\n",
    "plt.imshow(np.reshape(digits.data[i], (8, 8)), cmap='gray')\n",
    "plt.title('Label: %i\\n' % digits.target[i], fontsize=25)"
   ]
  },
  {
   "cell_type": "markdown",
   "metadata": {},
   "source": [
    "KNeighborsClassifier"
   ]
  },
  {
   "cell_type": "code",
   "execution_count": 104,
   "metadata": {
    "scrolled": false
   },
   "outputs": [
    {
     "name": "stdout",
     "output_type": "stream",
     "text": [
      "Accuracy for kneighbors classifier is: 98.22%\n"
     ]
    }
   ],
   "source": [
    "kneighbors = KNeighborsClassifier(n_neighbors=3)\n",
    "kneighbors.fit(x_train,y_train)\n",
    "predicted_kn = kneighbors.predict(x_test)\n",
    "accuracy_kn = kneighbors.score(x_test, y_test, sample_weight=None)\n",
    "print(\"Accuracy for kneighbors classifier is: {0:.2%}\".format(accuracy_kn))"
   ]
  },
  {
   "cell_type": "markdown",
   "metadata": {},
   "source": [
    "SGDClassifier"
   ]
  },
  {
   "cell_type": "code",
   "execution_count": 117,
   "metadata": {},
   "outputs": [
    {
     "name": "stdout",
     "output_type": "stream",
     "text": [
      "Accuracy for Stochastic Gradient Descent classifier is: 94.44%\n"
     ]
    }
   ],
   "source": [
    "SGD = SGDClassifier(loss=\"log\", penalty=\"l2\")\n",
    "SGD.fit(x_train,y_train)\n",
    "predicted_sgd = SGD.predict(x_test)\n",
    "accuracy_sgd = SGD.score(x_test, y_test, sample_weight=None)\n",
    "print(\"Accuracy for Stochastic Gradient Descent classifier is: {0:.2%}\".format(accuracy_sgd))"
   ]
  },
  {
   "cell_type": "markdown",
   "metadata": {},
   "source": [
    "DecisionTreeClassifier"
   ]
  },
  {
   "cell_type": "code",
   "execution_count": 120,
   "metadata": {},
   "outputs": [
    {
     "name": "stdout",
     "output_type": "stream",
     "text": [
      "Accuracy for decision tree classifier is: 84.22%\n"
     ]
    }
   ],
   "source": [
    "DTC = DecisionTreeClassifier(random_state=0)\n",
    "DTC.fit(x_train,y_train)\n",
    "predict_DTC = DTC.predict(x_test)\n",
    "accuracy_DTC = DTC.score(x_test, y_test, sample_weight=None)\n",
    "print(\"Accuracy for decision tree classifier is: {0:.2%}\".format(accuracy_DTC))"
   ]
  }
 ],
 "metadata": {
  "kernelspec": {
   "display_name": "Python 3.7.7 64-bit",
   "language": "python",
   "name": "python37764bitc70d63aa7d194db8b0d3446248fb290e"
  },
  "language_info": {
   "codemirror_mode": {
    "name": "ipython",
    "version": 3
   },
   "file_extension": ".py",
   "mimetype": "text/x-python",
   "name": "python",
   "nbconvert_exporter": "python",
   "pygments_lexer": "ipython3",
   "version": "3.7.7"
  }
 },
 "nbformat": 4,
 "nbformat_minor": 4
}
