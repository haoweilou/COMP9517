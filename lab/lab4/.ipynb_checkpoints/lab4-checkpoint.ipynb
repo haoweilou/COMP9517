{
 "cells": [
  {
   "cell_type": "markdown",
   "metadata": {},
   "source": [
    "COMP9517 lab4 20T2\\\n",
    "written by Haowei Lou\\\n",
    "z5258575"
   ]
  },
  {
   "cell_type": "code",
   "execution_count": 84,
   "metadata": {},
   "outputs": [],
   "source": [
    "from sklearn import metrics\n",
    "from sklearn.datasets import load_digits\n",
    "from sklearn.model_selection import train_test_split\n",
    "from sklearn.neighbors import KNeighborsClassifier\n",
    "from sklearn.linear_model import SGDClassifier\n",
    "from sklearn.tree import DecisionTreeClassifier\n",
    "from sklearn.metrics import classification_report\n",
    "from sklearn.metrics import accuracy_score\n",
    "from sklearn.metrics import multilabel_confusion_matrix\n",
    "import matplotlib.pyplot as plt\n",
    "import numpy as np"
   ]
  },
  {
   "cell_type": "markdown",
   "metadata": {},
   "source": [
    "Set up"
   ]
  },
  {
   "cell_type": "code",
   "execution_count": 53,
   "metadata": {},
   "outputs": [],
   "source": [
    "digits = load_digits()\n",
    "x = digits.data\n",
    "y = digits.target\n",
    "x_train, x_test, y_train, y_test = train_test_split(x,y,test_size=0.25)"
   ]
  },
  {
   "cell_type": "code",
   "execution_count": 89,
   "metadata": {},
   "outputs": [],
   "source": [
    "def calculate_score(mcm):\n",
    "    tn = mcm[:, 0, 0]\n",
    "    tp = mcm[:, 1, 1]\n",
    "    fn = mcm[:, 1, 0]\n",
    "    fp = mcm[:, 0, 1]\n",
    "    recall = tp/(tp+fn)\n",
    "    recall = recall.sum()/len(recall)\n",
    "    return recall"
   ]
  },
  {
   "cell_type": "markdown",
   "metadata": {},
   "source": [
    "KNeighborsClassifier\\\n",
    "The reason for I choose n_neighbors = 3 is because I have looped through n_neighbors = 1 to 100, when n_neighbors = 3, it gives me best accuracy result. And the accuracy result have a trend of decrease as the n_neighbors increase."
   ]
  },
  {
   "cell_type": "code",
   "execution_count": 90,
   "metadata": {
    "scrolled": false
   },
   "outputs": [
    {
     "name": "stdout",
     "output_type": "stream",
     "text": [
      "              precision    recall  f1-score   support\n",
      "\n",
      "           0       1.00      1.00      1.00        42\n",
      "           1       0.96      1.00      0.98        47\n",
      "           2       1.00      1.00      1.00        47\n",
      "           3       0.98      0.98      0.98        44\n",
      "           4       1.00      1.00      1.00        46\n",
      "           5       1.00      0.96      0.98        53\n",
      "           6       1.00      1.00      1.00        48\n",
      "           7       0.98      1.00      0.99        40\n",
      "           8       0.97      0.97      0.97        37\n",
      "           9       0.96      0.93      0.95        46\n",
      "\n",
      "    accuracy                           0.98       450\n",
      "   macro avg       0.98      0.98      0.98       450\n",
      "weighted avg       0.98      0.98      0.98       450\n",
      "\n",
      "Accuracy for kneighbors classifier is: 98.44% 0.984729245988475\n"
     ]
    }
   ],
   "source": [
    "kneighbors = KNeighborsClassifier(n_neighbors=3)\n",
    "kneighbors.fit(x_train,y_train)\n",
    "predicted_kn = kneighbors.predict(x_test)\n",
    "accuracy_kn = accuracy_score(y_test,predicted_kn)\n",
    "recall_kn = calculate_score(multilabel_confusion_matrix(y_test, predicted_kn))\n",
    "print(classification_report(y_test,predicted_kn))\n",
    "print(\"Accuracy for kneighbors classifier is: {0:.2%}\".format(accuracy_kn),recall_kn)"
   ]
  },
  {
   "cell_type": "markdown",
   "metadata": {},
   "source": [
    "SGDClassifier"
   ]
  },
  {
   "cell_type": "code",
   "execution_count": 91,
   "metadata": {},
   "outputs": [
    {
     "name": "stdout",
     "output_type": "stream",
     "text": [
      "Accuracy for Stochastic Gradient Descent classifier is: 94.00%\n"
     ]
    }
   ],
   "source": [
    "SGD = SGDClassifier(loss=\"log\", penalty=\"l2\")\n",
    "SGD.fit(x_train,y_train)\n",
    "predicted_sgd = SGD.predict(x_test)\n",
    "accuracy_sgd = accuracy_score(y_test,predicted_sgd)\n",
    "recall_sgd = calculate_score(multilabel_confusion_matrix(y_test, predicted_sgd))\n",
    "print(\"Accuracy for Stochastic Gradient Descent classifier is: {0:.2%}\".format(accuracy_sgd))"
   ]
  },
  {
   "cell_type": "markdown",
   "metadata": {},
   "source": [
    "DecisionTreeClassifier"
   ]
  },
  {
   "cell_type": "code",
   "execution_count": 81,
   "metadata": {},
   "outputs": [
    {
     "name": "stdout",
     "output_type": "stream",
     "text": [
      "Accuracy for decision tree classifier is: 97.16%\n"
     ]
    }
   ],
   "source": [
    "DTC = DecisionTreeClassifier(random_state=0)\n",
    "DTC.fit(x_train,y_train)\n",
    "predicted_DTC = DTC.predict(x_test)\n",
    "accuracy_DTC\n",
    "recall_DTC = calculate_score(multilabel_confusion_matrix(y_test, predicted_DTC))\n",
    "print(\"Accuracy for decision tree classifier is: {0:.2%}\".format(accuracy_DTC),recall_DTC)"
   ]
  },
  {
   "cell_type": "markdown",
   "metadata": {},
   "source": [
    "Print function"
   ]
  },
  {
   "cell_type": "code",
   "execution_count": 83,
   "metadata": {},
   "outputs": [
    {
     "name": "stdout",
     "output_type": "stream",
     "text": [
      "COMP9517 Week5 Lab - z5258575\n",
      "\n",
      "Test size = 0.25\n",
      "KNN Accuracy: 0.997     Recall 0.985\n",
      "SGD Accuracy: 0.991     Recall 0.955\n",
      "DT Accuracy: 0.972     Recall 0.86\n",
      "\n",
      "KNN Confusion Matrix: \n",
      "[[42  0  0  0  0  0  0  0  0  0]\n",
      " [ 0 47  0  0  0  0  0  0  0  0]\n",
      " [ 0  0 47  0  0  0  0  0  0  0]\n",
      " [ 0  0  0 43  0  0  0  1  0  0]\n",
      " [ 0  0  0  0 46  0  0  0  0  0]\n",
      " [ 0  0  0  0  0 51  0  0  0  2]\n",
      " [ 0  0  0  0  0  0 48  0  0  0]\n",
      " [ 0  0  0  0  0  0  0 40  0  0]\n",
      " [ 0  1  0  0  0  0  0  0 36  0]\n",
      " [ 0  1  0  1  0  0  0  0  1 43]]\n"
     ]
    }
   ],
   "source": [
    "print(\"COMP9517 Week5 Lab - z5258575\\n\")\n",
    "print(\"Test size = 0.25\")\n",
    "for item1, item2, item3 in zip([\"KNN\",\"SGD\",\"DT\"],[accuracy_kn,accuracy_sgd,accuracy_DTC],[recall_kn,recall_sgd,recall_dtc]):\n",
    "    print(item1+\" Accuracy: \" + \"{0:.3}\".format(item2) + \"     Recall \" + \"{0:.3}\".format(item3))\n",
    "    \n",
    "print(\"\\nKNN Confusion Matrix: \")\n",
    "matrix = confusion_matrix(y_test, predicted_kn)\n",
    "print(matrix)"
   ]
  }
 ],
 "metadata": {
  "kernelspec": {
   "display_name": "Python 3.7.7 64-bit",
   "language": "python",
   "name": "python37764bitc70d63aa7d194db8b0d3446248fb290e"
  },
  "language_info": {
   "codemirror_mode": {
    "name": "ipython",
    "version": 3
   },
   "file_extension": ".py",
   "mimetype": "text/x-python",
   "name": "python",
   "nbconvert_exporter": "python",
   "pygments_lexer": "ipython3",
   "version": "3.7.7"
  }
 },
 "nbformat": 4,
 "nbformat_minor": 4
}
