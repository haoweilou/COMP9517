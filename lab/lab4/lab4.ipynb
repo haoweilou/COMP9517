{
 "cells": [
  {
   "cell_type": "markdown",
   "metadata": {},
   "source": [
    "COMP9517 lab4 20T2\\\n",
    "written by Haowei Lou\\\n",
    "z5258575"
   ]
  },
  {
   "cell_type": "code",
   "execution_count": 84,
   "metadata": {},
   "outputs": [],
   "source": [
    "from sklearn import metrics\n",
    "from sklearn.datasets import load_digits\n",
    "from sklearn.model_selection import train_test_split\n",
    "from sklearn.neighbors import KNeighborsClassifier\n",
    "from sklearn.linear_model import SGDClassifier\n",
    "from sklearn.tree import DecisionTreeClassifier\n",
    "from sklearn.metrics import classification_report\n",
    "from sklearn.metrics import accuracy_score\n",
    "from sklearn.metrics import multilabel_confusion_matrix\n",
    "import matplotlib.pyplot as plt\n",
    "import numpy as np"
   ]
  },
  {
   "cell_type": "markdown",
   "metadata": {},
   "source": [
    "Set up"
   ]
  },
  {
   "cell_type": "code",
   "execution_count": 53,
   "metadata": {},
   "outputs": [],
   "source": [
    "digits = load_digits()\n",
    "x = digits.data\n",
    "y = digits.target\n",
    "x_train, x_test, y_train, y_test = train_test_split(x,y,test_size=0.25)"
   ]
  },
  {
   "cell_type": "code",
   "execution_count": 89,
   "metadata": {},
   "outputs": [],
   "source": [
    "def calculate_score(mcm):\n",
    "    tn = mcm[:, 0, 0]\n",
    "    tp = mcm[:, 1, 1]\n",
    "    fn = mcm[:, 1, 0]\n",
    "    fp = mcm[:, 0, 1]\n",
    "    recall = tp/(tp+fn)\n",
    "    recall = recall.sum()/len(recall)\n",
    "    return recall"
   ]
  },
  {
   "cell_type": "markdown",
   "metadata": {},
   "source": [
    "KNeighborsClassifier\\\n",
    "The reason for I choose n_neighbors = 3 is because I have looped through n_neighbors = 1 to 100, when n_neighbors = 3, it gives me best accuracy result. And the accuracy result have a trend of decrease as the n_neighbors increase."
   ]
  },
  {
   "cell_type": "code",
   "execution_count": 104,
   "metadata": {},
   "outputs": [
    {
     "name": "stdout",
     "output_type": "stream",
     "text": [
      "Accuracy is: 98.67% Recall is: 98.68%\n",
      "Accuracy is: 98.44% Recall is: 98.40%\n",
      "Accuracy is: 98.44% Recall is: 98.47%\n",
      "Accuracy is: 97.78% Recall is: 97.69%\n",
      "Accuracy is: 97.78% Recall is: 97.69%\n",
      "Accuracy is: 97.78% Recall is: 97.69%\n",
      "Accuracy is: 97.33% Recall is: 97.27%\n",
      "Accuracy is: 97.33% Recall is: 97.27%\n",
      "Accuracy is: 97.33% Recall is: 97.27%\n",
      "Accuracy is: 97.33% Recall is: 97.31%\n",
      "Accuracy is: 97.11% Recall is: 97.09%\n",
      "Accuracy is: 97.11% Recall is: 97.09%\n",
      "Accuracy is: 97.11% Recall is: 97.09%\n",
      "Accuracy is: 96.89% Recall is: 96.87%\n",
      "Accuracy is: 96.89% Recall is: 96.87%\n",
      "Accuracy is: 96.89% Recall is: 96.87%\n",
      "Accuracy is: 97.11% Recall is: 97.09%\n",
      "Accuracy is: 97.11% Recall is: 97.09%\n",
      "Accuracy is: 97.33% Recall is: 97.31%\n",
      "Accuracy is: 96.89% Recall is: 96.87%\n",
      "Accuracy is: 96.89% Recall is: 96.88%\n",
      "Accuracy is: 96.67% Recall is: 96.66%\n",
      "Accuracy is: 96.44% Recall is: 96.45%\n",
      "Accuracy is: 96.22% Recall is: 96.18%\n",
      "Accuracy is: 96.44% Recall is: 96.45%\n",
      "Accuracy is: 96.00% Recall is: 95.96%\n",
      "Accuracy is: 96.00% Recall is: 95.96%\n",
      "Accuracy is: 96.00% Recall is: 95.96%\n",
      "Accuracy is: 96.00% Recall is: 95.96%\n",
      "Accuracy is: 95.78% Recall is: 95.75%\n",
      "Accuracy is: 95.33% Recall is: 95.33%\n",
      "Accuracy is: 95.11% Recall is: 95.11%\n",
      "Accuracy is: 94.89% Recall is: 94.84%\n",
      "Accuracy is: 94.89% Recall is: 94.90%\n",
      "Accuracy is: 94.67% Recall is: 94.71%\n",
      "Accuracy is: 94.22% Recall is: 94.23%\n",
      "Accuracy is: 94.44% Recall is: 94.56%\n",
      "Accuracy is: 94.44% Recall is: 94.48%\n",
      "Accuracy is: 94.44% Recall is: 94.48%\n",
      "Accuracy is: 94.22% Recall is: 94.21%\n",
      "Accuracy is: 94.22% Recall is: 94.21%\n",
      "Accuracy is: 94.22% Recall is: 94.21%\n",
      "Accuracy is: 94.22% Recall is: 94.21%\n",
      "Accuracy is: 94.00% Recall is: 93.99%\n",
      "Accuracy is: 93.78% Recall is: 93.72%\n",
      "Accuracy is: 93.56% Recall is: 93.62%\n",
      "Accuracy is: 93.11% Recall is: 93.14%\n",
      "Accuracy is: 92.89% Recall is: 92.93%\n",
      "Accuracy is: 93.56% Recall is: 93.56%\n",
      "Accuracy is: 93.56% Recall is: 93.56%\n",
      "Accuracy is: 93.33% Recall is: 93.29%\n",
      "Accuracy is: 93.33% Recall is: 93.29%\n",
      "Accuracy is: 93.33% Recall is: 93.29%\n",
      "Accuracy is: 92.89% Recall is: 92.86%\n",
      "Accuracy is: 92.89% Recall is: 92.89%\n",
      "Accuracy is: 92.89% Recall is: 92.86%\n",
      "Accuracy is: 92.67% Recall is: 92.68%\n",
      "Accuracy is: 92.67% Recall is: 92.67%\n",
      "Accuracy is: 92.44% Recall is: 92.46%\n",
      "Accuracy is: 92.44% Recall is: 92.46%\n",
      "Accuracy is: 92.44% Recall is: 92.46%\n",
      "Accuracy is: 92.44% Recall is: 92.46%\n",
      "Accuracy is: 92.44% Recall is: 92.46%\n",
      "Accuracy is: 92.44% Recall is: 92.46%\n",
      "Accuracy is: 92.44% Recall is: 92.46%\n",
      "Accuracy is: 92.44% Recall is: 92.46%\n",
      "Accuracy is: 92.44% Recall is: 92.46%\n",
      "Accuracy is: 92.44% Recall is: 92.46%\n",
      "Accuracy is: 91.78% Recall is: 91.65%\n",
      "Accuracy is: 92.00% Recall is: 91.92%\n",
      "Accuracy is: 92.00% Recall is: 91.92%\n",
      "Accuracy is: 92.00% Recall is: 91.92%\n",
      "Accuracy is: 92.22% Recall is: 92.19%\n",
      "Accuracy is: 92.00% Recall is: 91.97%\n",
      "Accuracy is: 92.22% Recall is: 92.24%\n",
      "Accuracy is: 92.00% Recall is: 91.97%\n",
      "Accuracy is: 91.78% Recall is: 91.76%\n",
      "Accuracy is: 91.56% Recall is: 91.49%\n",
      "Accuracy is: 91.56% Recall is: 91.49%\n",
      "Accuracy is: 91.56% Recall is: 91.49%\n",
      "Accuracy is: 91.11% Recall is: 91.07%\n",
      "Accuracy is: 91.33% Recall is: 91.28%\n",
      "Accuracy is: 91.11% Recall is: 91.01%\n",
      "Accuracy is: 91.33% Recall is: 91.28%\n",
      "Accuracy is: 91.33% Recall is: 91.28%\n",
      "Accuracy is: 91.11% Recall is: 91.01%\n",
      "Accuracy is: 91.11% Recall is: 91.07%\n",
      "Accuracy is: 91.33% Recall is: 91.28%\n",
      "Accuracy is: 91.11% Recall is: 91.06%\n",
      "Accuracy is: 91.33% Recall is: 91.28%\n",
      "Accuracy is: 91.11% Recall is: 91.06%\n",
      "Accuracy is: 91.33% Recall is: 91.28%\n",
      "Accuracy is: 91.11% Recall is: 91.06%\n",
      "Accuracy is: 90.89% Recall is: 90.85%\n",
      "Accuracy is: 90.89% Recall is: 90.85%\n",
      "Accuracy is: 91.11% Recall is: 91.06%\n",
      "Accuracy is: 90.89% Recall is: 90.84%\n",
      "Accuracy is: 91.11% Recall is: 91.06%\n",
      "Accuracy is: 90.89% Recall is: 90.84%\n"
     ]
    }
   ],
   "source": [
    "for i in range(1,100):\n",
    "    kneighbors = KNeighborsClassifier(n_neighbors=i)\n",
    "    kneighbors.fit(x_train,y_train)\n",
    "    predicted_kn = kneighbors.predict(x_test)\n",
    "    accuracy_kn = accuracy_score(y_test,predicted_kn)\n",
    "    recall_kn = calculate_score(multilabel_confusion_matrix(y_test, predicted_kn))\n",
    "    print(\"Accuracy is: {0:.2%}\".format(accuracy_kn),\"Recall is: {0:.2%}\".format(recall_kn))"
   ]
  },
  {
   "cell_type": "code",
   "execution_count": 105,
   "metadata": {
    "scrolled": false
   },
   "outputs": [
    {
     "name": "stdout",
     "output_type": "stream",
     "text": [
      "Accuracy is: 98.44% Recall is: 98.47%\n"
     ]
    }
   ],
   "source": [
    "kneighbors = KNeighborsClassifier(n_neighbors=3)\n",
    "kneighbors.fit(x_train,y_train)\n",
    "predicted_kn = kneighbors.predict(x_test)\n",
    "accuracy_kn = accuracy_score(y_test,predicted_kn)\n",
    "recall_kn = calculate_score(multilabel_confusion_matrix(y_test, predicted_kn))\n",
    "print(\"Accuracy is: {0:.2%}\".format(accuracy_kn),\"Recall is: {0:.2%}\".format(recall_kn))"
   ]
  },
  {
   "cell_type": "markdown",
   "metadata": {},
   "source": [
    "SGDClassifier"
   ]
  },
  {
   "cell_type": "code",
   "execution_count": 106,
   "metadata": {},
   "outputs": [
    {
     "name": "stdout",
     "output_type": "stream",
     "text": [
      "Accuracy is: 93.78% Recall is: 93.91%\n"
     ]
    }
   ],
   "source": [
    "SGD = SGDClassifier(loss=\"log\", penalty=\"l2\")\n",
    "SGD.fit(x_train,y_train)\n",
    "predicted_sgd = SGD.predict(x_test)\n",
    "accuracy_sgd = accuracy_score(y_test,predicted_sgd)\n",
    "recall_sgd = calculate_score(multilabel_confusion_matrix(y_test, predicted_sgd))\n",
    "print(\"Accuracy is: {0:.2%}\".format(accuracy_sgd),\"Recall is: {0:.2%}\".format(recall_sgd))"
   ]
  },
  {
   "cell_type": "markdown",
   "metadata": {},
   "source": [
    "DecisionTreeClassifier"
   ]
  },
  {
   "cell_type": "code",
   "execution_count": 107,
   "metadata": {},
   "outputs": [
    {
     "name": "stdout",
     "output_type": "stream",
     "text": [
      "Accuracy is: 85.78% Recall is: 85.87%\n"
     ]
    }
   ],
   "source": [
    "DTC = DecisionTreeClassifier(random_state=0)\n",
    "DTC.fit(x_train,y_train)\n",
    "predicted_DTC = DTC.predict(x_test)\n",
    "accuracy_DTC = accuracy_score(y_test,predicted_DTC)\n",
    "recall_dtc = calculate_score(multilabel_confusion_matrix(y_test, predicted_DTC))\n",
    "print(\"Accuracy is: {0:.2%}\".format(accuracy_DTC),\"Recall is: {0:.2%}\".format(recall_dtc))"
   ]
  },
  {
   "cell_type": "markdown",
   "metadata": {},
   "source": [
    "Print function"
   ]
  },
  {
   "cell_type": "code",
   "execution_count": 108,
   "metadata": {
    "scrolled": true
   },
   "outputs": [
    {
     "name": "stdout",
     "output_type": "stream",
     "text": [
      "COMP9517 Week5 Lab - z5258575\n",
      "\n",
      "Test size = 0.25\n",
      "KNN Accuracy: 0.984     Recall 0.985\n",
      "SGD Accuracy: 0.938     Recall 0.939\n",
      "DT Accuracy: 0.858     Recall 0.859\n",
      "\n",
      "KNN Confusion Matrix: \n",
      "[[42  0  0  0  0  0  0  0  0  0]\n",
      " [ 0 47  0  0  0  0  0  0  0  0]\n",
      " [ 0  0 47  0  0  0  0  0  0  0]\n",
      " [ 0  0  0 43  0  0  0  1  0  0]\n",
      " [ 0  0  0  0 46  0  0  0  0  0]\n",
      " [ 0  0  0  0  0 51  0  0  0  2]\n",
      " [ 0  0  0  0  0  0 48  0  0  0]\n",
      " [ 0  0  0  0  0  0  0 40  0  0]\n",
      " [ 0  1  0  0  0  0  0  0 36  0]\n",
      " [ 0  1  0  1  0  0  0  0  1 43]]\n"
     ]
    }
   ],
   "source": [
    "print(\"COMP9517 Week5 Lab - z5258575\\n\")\n",
    "print(\"Test size = 0.25\")\n",
    "for item1, item2, item3 in zip([\"KNN\",\"SGD\",\"DT\"],[accuracy_kn,accuracy_sgd,accuracy_DTC],[recall_kn,recall_sgd,recall_dtc]):\n",
    "    print(item1+\" Accuracy: \" + \"{0:.3}\".format(item2) + \"     Recall \" + \"{0:.3}\".format(item3))\n",
    "    \n",
    "print(\"\\nKNN Confusion Matrix: \")\n",
    "matrix = confusion_matrix(y_test, predicted_kn)\n",
    "print(matrix)"
   ]
  }
 ],
 "metadata": {
  "kernelspec": {
   "display_name": "Python 3.7.7 64-bit",
   "language": "python",
   "name": "python37764bitc70d63aa7d194db8b0d3446248fb290e"
  },
  "language_info": {
   "codemirror_mode": {
    "name": "ipython",
    "version": 3
   },
   "file_extension": ".py",
   "mimetype": "text/x-python",
   "name": "python",
   "nbconvert_exporter": "python",
   "pygments_lexer": "ipython3",
   "version": "3.7.7"
  }
 },
 "nbformat": 4,
 "nbformat_minor": 4
}
