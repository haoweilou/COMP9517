{
 "cells": [
  {
   "cell_type": "markdown",
   "metadata": {},
   "source": [
    "Written by Haowei Lou\n",
    "z5258575\n",
    "05 June 2020"
   ]
  },
  {
   "cell_type": "code",
   "execution_count": 1,
   "metadata": {},
   "outputs": [],
   "source": [
    "import cv2\n",
    "import numpy as np"
   ]
  },
  {
   "cell_type": "code",
   "execution_count": 2,
   "metadata": {},
   "outputs": [],
   "source": [
    "Cells = 'Cells.png'\n",
    "Particles = 'Particles.png'"
   ]
  },
  {
   "cell_type": "markdown",
   "metadata": {},
   "source": [
    "Load image path and find the height and width of the image"
   ]
  },
  {
   "cell_type": "code",
   "execution_count": 17,
   "metadata": {},
   "outputs": [],
   "source": [
    "Image_path = Cells\n",
    "Image = cv2.imread(Image_path,-1)\n",
    "I = Image.shape\n",
    "height = I[0]\n",
    "width = I[1]"
   ]
  },
  {
   "cell_type": "markdown",
   "metadata": {},
   "source": [
    "Enter the value of n"
   ]
  },
  {
   "cell_type": "code",
   "execution_count": 18,
   "metadata": {},
   "outputs": [
    {
     "name": "stdout",
     "output_type": "stream",
     "text": [
      "Pless enter the value of N: 50\n"
     ]
    }
   ],
   "source": [
    "print('Pless enter the value of N: ',end='')\n",
    "N = int(input())"
   ]
  },
  {
   "cell_type": "markdown",
   "metadata": {},
   "source": [
    "Ask user to enter M value"
   ]
  },
  {
   "cell_type": "code",
   "execution_count": 12,
   "metadata": {},
   "outputs": [
    {
     "name": "stdout",
     "output_type": "stream",
     "text": [
      "Pless enter the value of M: 1\n"
     ]
    }
   ],
   "source": [
    "print('Pless enter the value of M: ',end='')\n",
    "M = int(input())"
   ]
  },
  {
   "cell_type": "markdown",
   "metadata": {},
   "source": [
    "Function that find the maximum value in neighbours"
   ]
  },
  {
   "cell_type": "code",
   "execution_count": 6,
   "metadata": {},
   "outputs": [],
   "source": [
    "def maxfilter(image,row,col):\n",
    "    start = [row-N//2,col-N//2]\n",
    "    start[0] = max(0,start[0])\n",
    "    start[1] = max(0,start[1])\n",
    "    if start[0] > height - N:\n",
    "        start[0] = height - N\n",
    "    if start[1]  > width - N:\n",
    "        start[1] = width - N\n",
    "    return np.max(image[start[0]:start[0]+N,start[1]:start[1]+N])"
   ]
  },
  {
   "cell_type": "markdown",
   "metadata": {},
   "source": [
    "Function that find the minimum value in neighbours"
   ]
  },
  {
   "cell_type": "code",
   "execution_count": 7,
   "metadata": {},
   "outputs": [],
   "source": [
    "def minfilter(image,row,col):\n",
    "    start = [row-N//2,col-N//2]\n",
    "    start[0] = max(0,start[0])\n",
    "    start[1] = max(0,start[1])\n",
    "    if start[0] > height - N:\n",
    "        start[0] = height - N\n",
    "    if start[1]  > width - N:\n",
    "        start[1] = width - N\n",
    "    return np.min(image[start[0]:start[0]+N,start[1]:start[1]+N])"
   ]
  },
  {
   "cell_type": "markdown",
   "metadata": {},
   "source": [
    "Initialise image"
   ]
  },
  {
   "cell_type": "code",
   "execution_count": 14,
   "metadata": {},
   "outputs": [],
   "source": [
    "A = np.zeros(I,dtype=np.int16)\n",
    "B = np.zeros(I,dtype=np.int16)\n",
    "O = np.zeros(I,dtype=np.int16)"
   ]
  },
  {
   "cell_type": "markdown",
   "metadata": {},
   "source": [
    "Execute"
   ]
  },
  {
   "cell_type": "code",
   "execution_count": 19,
   "metadata": {},
   "outputs": [],
   "source": [
    "if M == 0:\n",
    "    for i in range(height):\n",
    "        for j in range(width):\n",
    "            A[i][j] = maxfilter(Image,i,j)\n",
    "    for i in range(height):\n",
    "        for j in range(width):\n",
    "            B[i][j] = minfilter(A,i,j)\n",
    "    matrix_255 = np.empty(I)\n",
    "    matrix_255.fill(255)\n",
    "    O = Image - B + matrix_255\n",
    "elif M == 1:\n",
    "    for i in range(height):\n",
    "        for j in range(width):\n",
    "            A[i][j] = minfilter(Image,i,j)\n",
    "    for i in range(height):\n",
    "        for j in range(width):\n",
    "            B[i][j] = maxfilter(A,i,j)\n",
    "    O = Image - B"
   ]
  },
  {
   "cell_type": "markdown",
   "metadata": {},
   "source": [
    "Output image"
   ]
  },
  {
   "cell_type": "code",
   "execution_count": 20,
   "metadata": {},
   "outputs": [
    {
     "data": {
      "text/plain": [
       "True"
      ]
     },
     "execution_count": 20,
     "metadata": {},
     "output_type": "execute_result"
    }
   ],
   "source": [
    "cv2.imwrite(\"A.png\",A)\n",
    "cv2.imwrite(\"B.png\",B)\n",
    "cv2.imwrite(\"O.png\",O)"
   ]
  }
 ],
 "metadata": {
  "kernelspec": {
   "display_name": "Python 3",
   "language": "python",
   "name": "python3"
  },
  "language_info": {
   "codemirror_mode": {
    "name": "ipython",
    "version": 3
   },
   "file_extension": ".py",
   "mimetype": "text/x-python",
   "name": "python",
   "nbconvert_exporter": "python",
   "pygments_lexer": "ipython3",
   "version": "3.8.3"
  }
 },
 "nbformat": 4,
 "nbformat_minor": 4
}