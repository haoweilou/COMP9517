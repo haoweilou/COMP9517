{
 "cells": [
  {
   "cell_type": "markdown",
   "metadata": {},
   "source": [
    "Written by Haowei Lou\n",
    "z5258575\n",
    "05 June 2020"
   ]
  },
  {
   "cell_type": "code",
   "execution_count": 42,
   "metadata": {},
   "outputs": [],
   "source": [
    "import cv2\n",
    "import numpy as np"
   ]
  },
  {
   "cell_type": "code",
   "execution_count": 43,
   "metadata": {},
   "outputs": [],
   "source": [
    "Cells = 'Cells.png'\n",
    "Particles = 'Particles.png'"
   ]
  },
  {
   "cell_type": "markdown",
   "metadata": {},
   "source": [
    "Load image path and find the height and width of the image"
   ]
  },
  {
   "cell_type": "code",
   "execution_count": 44,
   "metadata": {},
   "outputs": [],
   "source": [
    "Image_path = Particles\n",
    "Image = cv2.imread(Image_path,-1)\n",
    "I = Image.shape\n",
    "height = I[0]\n",
    "width = I[1]"
   ]
  },
  {
   "cell_type": "markdown",
   "metadata": {},
   "source": [
    "Enter the value of n"
   ]
  },
  {
   "cell_type": "code",
   "execution_count": 45,
   "metadata": {},
   "outputs": [
    {
     "name": "stdout",
     "output_type": "stream",
     "text": [
      "Pless enter the value of N: 3\n"
     ]
    }
   ],
   "source": [
    "print('Pless enter the value of N: ',end='')\n",
    "N = int(input())"
   ]
  },
  {
   "cell_type": "markdown",
   "metadata": {},
   "source": [
    "Function that find the maximum value in neighbours"
   ]
  },
  {
   "cell_type": "code",
   "execution_count": 46,
   "metadata": {},
   "outputs": [],
   "source": [
    "def maxfilter(row,col):\n",
    "    start = [row-N//2,col-N//2]\n",
    "\n",
    "    start[0] = max(0,start[0])\n",
    "    start[1] = max(0,start[1])\n",
    "    if start[0] > height - N:\n",
    "        start[0] = height - N\n",
    "    if start[1]  > width - N:\n",
    "        start[1] = width - N\n",
    "    \n",
    "    output = 0\n",
    "    for i in range(0,N):\n",
    "        for j in range(0,N):\n",
    "            output = max(Image[start[0]+i][start[1]+j],output)\n",
    "    return output"
   ]
  },
  {
   "cell_type": "markdown",
   "metadata": {},
   "source": [
    "Function that find the minimum value in neighbours"
   ]
  },
  {
   "cell_type": "code",
   "execution_count": 47,
   "metadata": {},
   "outputs": [],
   "source": [
    "def minfilter(A,row,col):\n",
    "    start = [row-N//2,col-N//2]\n",
    "\n",
    "    start[0] = max(0,start[0])\n",
    "    start[1] = max(0,start[1])\n",
    "    if start[0] > height - N:\n",
    "        start[0] = height - N\n",
    "    if start[1]  > width - N:\n",
    "        start[1] = width - N\n",
    "    \n",
    "    output = 255\n",
    "    for i in range(0,N):\n",
    "        for j in range(0,N):\n",
    "            output = min(A[start[0]+i][start[1]+j],output)\n",
    "    return output"
   ]
  },
  {
   "cell_type": "markdown",
   "metadata": {},
   "source": [
    "Remove shade of image"
   ]
  },
  {
   "cell_type": "code",
   "execution_count": 54,
   "metadata": {},
   "outputs": [],
   "source": [
    "def removeShade(B):\n",
    "    O = np.zeros(I,dtype=np.uint8)\n",
    "    for i in range(height):\n",
    "        for j in range(width):\n",
    "            O[i][j] = Image[i][j] - B[i][j]\n",
    "    return O"
   ]
  },
  {
   "cell_type": "code",
   "execution_count": 55,
   "metadata": {},
   "outputs": [],
   "source": [
    "A = np.zeros(I,dtype=np.uint8)\n",
    "for i in range(height):\n",
    "    for j in range(width):\n",
    "        A[i][j] = maxfilter(i,j)\n",
    "\n",
    "B = np.zeros(I,dtype=np.uint8)\n",
    "for i in range(height):\n",
    "    for j in range(width):\n",
    "        B[i][j] = minfilter(A,i,j)\n",
    "\n",
    "O = removeShade(B)"
   ]
  },
  {
   "cell_type": "code",
   "execution_count": 56,
   "metadata": {},
   "outputs": [
    {
     "data": {
      "text/plain": [
       "True"
      ]
     },
     "execution_count": 56,
     "metadata": {},
     "output_type": "execute_result"
    }
   ],
   "source": [
    "cv2.imwrite(\"A.jpg\",A)\n",
    "cv2.imwrite(\"B.jpg\",B)\n",
    "cv2.imwrite(\"O.jpg\",O)"
   ]
  },
  {
   "cell_type": "code",
   "execution_count": null,
   "metadata": {},
   "outputs": [],
   "source": []
  }
 ],
 "metadata": {
  "kernelspec": {
   "display_name": "Python 3",
   "language": "python",
   "name": "python3"
  },
  "language_info": {
   "codemirror_mode": {
    "name": "ipython",
    "version": 3
   },
   "file_extension": ".py",
   "mimetype": "text/x-python",
   "name": "python",
   "nbconvert_exporter": "python",
   "pygments_lexer": "ipython3",
   "version": "3.8.3"
  }
 },
 "nbformat": 4,
 "nbformat_minor": 4
}
